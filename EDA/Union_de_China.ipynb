{
 "cells": [
  {
   "cell_type": "code",
   "execution_count": 13,
   "metadata": {},
   "outputs": [],
   "source": [
    "#Importamos las librerias necesarias\n",
    "import pandas as pd\n",
    "import numpy as np"
   ]
  },
  {
   "cell_type": "code",
   "execution_count": 14,
   "metadata": {},
   "outputs": [],
   "source": [
    "dfvino = pd.read_csv(r\"c:\\Users\\usuari\\Desktop\\Proyecto_final\\data\\dataVino2023.csv\")"
   ]
  },
  {
   "cell_type": "markdown",
   "metadata": {},
   "source": [
    "#### Visión general de los datos"
   ]
  },
  {
   "cell_type": "code",
   "execution_count": 15,
   "metadata": {},
   "outputs": [
    {
     "data": {
      "text/plain": [
       "(8364, 7)"
      ]
     },
     "execution_count": 15,
     "metadata": {},
     "output_type": "execute_result"
    }
   ],
   "source": [
    "#Muestra la cantidad de filas y columnas del archivo\n",
    "dfvino.shape    "
   ]
  },
  {
   "cell_type": "code",
   "execution_count": 16,
   "metadata": {},
   "outputs": [
    {
     "data": {
      "text/plain": [
       "Continent         object\n",
       "Region/Country    object\n",
       "Product           object\n",
       "Variable          object\n",
       "Year               int64\n",
       "Unit              object\n",
       "Quantity          object\n",
       "dtype: object"
      ]
     },
     "execution_count": 16,
     "metadata": {},
     "output_type": "execute_result"
    }
   ],
   "source": [
    "# Muestra el tipo de variable de cada columna\n",
    "dfvino.dtypes"
   ]
  },
  {
   "cell_type": "markdown",
   "metadata": {},
   "source": [
    "### Correcciones de datos"
   ]
  },
  {
   "cell_type": "code",
   "execution_count": 17,
   "metadata": {},
   "outputs": [],
   "source": [
    "# para corregir el espacio de separacion de miles de la columna 'Quantity'\n",
    "dfvino['Quantity'] = dfvino['Quantity'].str.replace(' ', '', regex=False).astype(float)"
   ]
  },
  {
   "cell_type": "code",
   "execution_count": 18,
   "metadata": {},
   "outputs": [],
   "source": [
    "#Convierte la columna Quantity a tipo de dato numérico\n",
    "dfvino['Quantity'] = pd.to_numeric(dfvino['Quantity'], errors='coerce')  "
   ]
  },
  {
   "cell_type": "markdown",
   "metadata": {},
   "source": [
    "### Visualización de las cuatro \"regiones de China\" a unir"
   ]
  },
  {
   "cell_type": "code",
   "execution_count": 19,
   "metadata": {},
   "outputs": [
    {
     "name": "stdout",
     "output_type": "stream",
     "text": [
      "                  Region/Country  Year       Variable  Quantity\n",
      "1631          China, continental  2013        Consumo   18714.0\n",
      "1632          China, continental  2013  Exportaciones      19.0\n",
      "1633          China, continental  2013  Importaciones    3766.0\n",
      "1634          China, continental  2013     Producción   13693.0\n",
      "1635          China, continental  2014        Consumo   17369.0\n",
      "...                          ...   ...            ...       ...\n",
      "1800  China, Taiwán provincia de  2022     Producción       0.0\n",
      "1801  China, Taiwán provincia de  2023        Consumo     212.0\n",
      "1802  China, Taiwán provincia de  2023  Exportaciones       0.0\n",
      "1803  China, Taiwán provincia de  2023  Importaciones     238.0\n",
      "1804  China, Taiwán provincia de  2023     Producción       0.0\n",
      "\n",
      "[174 rows x 4 columns]\n"
     ]
    }
   ],
   "source": [
    "ubicaciones = ['China, continental', 'China, RAE de Hong Kong', 'China, RAE de Macao', 'China, Taiwán provincia de']  # Especifica tus 4 ubicaciones\n",
    "\n",
    "df_para_visualizar = dfvino[dfvino[\"Region/Country\"].isin(ubicaciones)][[\"Region/Country\", \"Year\", \"Variable\", \"Quantity\"]]\n",
    "\n",
    "print(df_para_visualizar)"
   ]
  },
  {
   "cell_type": "code",
   "execution_count": 20,
   "metadata": {},
   "outputs": [
    {
     "name": "stdout",
     "output_type": "stream",
     "text": [
      "               Region/Country  Quantity\n",
      "0     China, RAE de Hong Kong   10643.0\n",
      "1         China, RAE de Macao    1189.0\n",
      "2  China, Taiwán provincia de    4512.0\n",
      "3          China, continental  321859.0\n"
     ]
    }
   ],
   "source": [
    "df_sumatorio = df_para_visualizar[df_para_visualizar[\"Region/Country\"].isin(ubicaciones)].groupby(\"Region/Country\")[\"Quantity\"].sum().reset_index()\n",
    "print(df_sumatorio)"
   ]
  },
  {
   "cell_type": "code",
   "execution_count": 21,
   "metadata": {},
   "outputs": [
    {
     "name": "stdout",
     "output_type": "stream",
     "text": [
      "338203.0\n"
     ]
    }
   ],
   "source": [
    "suma_general = dfvino[dfvino[\"Region/Country\"].isin(ubicaciones)][\"Quantity\"].sum()\n",
    "print(suma_general)"
   ]
  },
  {
   "cell_type": "markdown",
   "metadata": {},
   "source": [
    "### Unificación de 'China, continental', 'China, RAE de Hong Kong', 'China, RAE de Macao', 'China, Taiwán provincia de' en una sola región, 'China' "
   ]
  },
  {
   "cell_type": "code",
   "execution_count": 22,
   "metadata": {},
   "outputs": [],
   "source": [
    "# Unificiación de las versiones de China\n",
    "# Filtrar las filas de las 4 versiones de China\n",
    "paises_china = ['China, continental', 'China, RAE de Hong Kong', 'China, RAE de Macao', 'China, Taiwán provincia de']\n",
    "df_china = dfvino[dfvino['Region/Country'].isin(paises_china)]\n",
    "\n",
    "# Agrupar las filas de las versiones de China por 'Year' y 'Variable' y sumar la columna 'Quantity'\n",
    "df_china_agrupado = df_china.groupby(['Continent', 'Product','Year', 'Variable','Unit'], as_index=False)['Quantity'].sum()\n",
    "\n",
    "# Reemplazar las filas de las versiones de China originales con las filas unificadas de China\n",
    "# Asegurándonos de que para cada combinación de Year y Variable haya 1 sola fila de China\n",
    "\n",
    "# Cambiar el nombre de la columna 'Region/Country' a 'China'\n",
    "df_china_agrupado['Region/Country'] = 'China'\n",
    "\n",
    "# Eliminar las filas originales de las 4 versiones de China en dfvino\n",
    "dfvino = dfvino[~dfvino['Region/Country'].isin(paises_china)]\n",
    "\n",
    "# Concatenar las filas agrupadas de China al DataFrame original\n",
    "dfvino_union = pd.concat([dfvino, df_china_agrupado], ignore_index=True)\n"
   ]
  },
  {
   "cell_type": "markdown",
   "metadata": {},
   "source": [
    "### Comprobación de que la unión se ha hecho correctamente y que no se han alterado datos"
   ]
  },
  {
   "cell_type": "code",
   "execution_count": 23,
   "metadata": {},
   "outputs": [
    {
     "data": {
      "text/plain": [
       "(8234, 7)"
      ]
     },
     "execution_count": 23,
     "metadata": {},
     "output_type": "execute_result"
    }
   ],
   "source": [
    "dfvino_union.shape"
   ]
  },
  {
   "cell_type": "code",
   "execution_count": 24,
   "metadata": {},
   "outputs": [
    {
     "data": {
      "text/plain": [
       "array(['Afganistán', 'Albania', 'Alemania', 'American Samoa', 'Andorra',\n",
       "       'Angola', 'Antigua y Barbuda', 'Antillas Neerlandesas',\n",
       "       'Arabia Saudí', 'Argelia', 'Argentina', 'Armenia', 'Aruba',\n",
       "       'Australia', 'Austria', 'Azerbaiyán', 'Bahamas', 'Bangladés',\n",
       "       'Barbados', 'Baréin', 'Bélgica', 'Belgium and Luxemburg', 'Belice',\n",
       "       'Benín', 'Bermuda', 'Bielorrusia', 'Bolivia',\n",
       "       'Bosnia y Herzegovina', 'Botsuana', 'Brasil', 'Brunéi', 'Bulgaria',\n",
       "       'Burkina Faso', 'Burundi', 'Bután', 'Cabo Verde', 'Camboya',\n",
       "       'Camerún', 'Canadá', 'Cayman Islands', 'Chad', 'Chile', 'Chipre',\n",
       "       'Colombia', 'Comoras', 'Congo', 'Cook Islands', 'Corea del Norte',\n",
       "       'Corea del Sur', 'Costa de Marfil', 'Costa Rica', 'Croacia',\n",
       "       'Cuba', 'Dinamarca', 'Dominica', 'Ecuador', 'Egipto',\n",
       "       'El Salvador', 'Emiratos Árabes Unidos', 'Eritrea', 'Eslovaquia',\n",
       "       'Eslovenia', 'España', 'Estados Unidos', 'Estonia', 'Esuatini',\n",
       "       'Etiopía', 'Faroe Islands', 'Filipinas', 'Finlandia', 'Fiyi',\n",
       "       'Francia', 'French Guiana', 'French Polynesia', 'Gabón', 'Gambia',\n",
       "       'Georgia', 'Ghana', 'Granada', 'Grecia', 'Greenland', 'Guadeloupe',\n",
       "       'Guam', 'Guinea', 'Guinea Ecuatorial', 'Guinea-Bisáu', 'Guyana',\n",
       "       'Haití', 'Honduras', 'Hungría', 'India', 'Indonesia', 'Irak',\n",
       "       'Irán', 'Irlanda', 'Islandia', 'Islas Marshall', 'Islas Salomón',\n",
       "       'Israel', 'Italia', 'Jamaica', 'Japón', 'Jordania', 'Kazajistán',\n",
       "       'Kenia', 'Kirguistán', 'Kiribati', 'Kuwait', 'Laos', 'Lesoto',\n",
       "       'Letonia', 'Líbano', 'Liberia', 'Libia', 'Liechtenstein',\n",
       "       'Lituania', 'Luxemburgo', 'Macedonia del Norte', 'Madagascar',\n",
       "       'Malasia', 'Malaui', 'Maldivas', 'Mali', 'Malta', 'Marruecos',\n",
       "       'Martinique', 'Mauricio', 'Mauritania', 'México', 'Micronesia',\n",
       "       'Moldavia', 'Mónaco', 'Mongolia', 'Montenegro', 'Montserrat',\n",
       "       'Mozambique', 'Myanmar/Birmania', 'Namibia', 'Nauru', 'Nepal',\n",
       "       'New Caledonia', 'Nicaragua', 'Níger', 'Nigeria', 'Niue',\n",
       "       'Norfolk Island', 'Noruega', 'Nueva Zelanda', 'Omán',\n",
       "       'Países Bajos', 'Pakistán', 'Palaos', 'Panamá',\n",
       "       'Papúa Nueva Guinea', 'Paraguay', 'Perú', 'Polonia', 'Portugal',\n",
       "       'Qatar', 'Reino Unido', 'República Centroafricana',\n",
       "       'República Checa', 'Républica de Türkiye',\n",
       "       'República Democrática del Congo', 'República Dominicana',\n",
       "       'Reunion island', 'Ruanda', 'Rumanía', 'Rusia', 'Saint Helena',\n",
       "       'Saint Pierre And Miquelon', 'Samoa', 'San Cristóbal y Nieves',\n",
       "       'San Marino', 'San Vicente y las Granadinas', 'Santa Lucía',\n",
       "       'Santo Tomé y Príncipe', 'Senegal', 'Serbia',\n",
       "       'Serbia And Montenegro', 'Seychelles', 'Sierra Leona', 'Singapur',\n",
       "       'Siria', 'Somalia', 'Sri Lanka', 'State of Palestine', 'Sudáfrica',\n",
       "       'Sudán', 'Sudán del Sur', 'Suecia', 'Suiza', 'Surinam',\n",
       "       'Tailandia', 'Tanzania', 'Tayikistán', 'Timor Oriental', 'Togo',\n",
       "       'Tonga', 'Trinidad y Tobago', 'Túnez', 'Turkmenistán', 'Tuvalu',\n",
       "       'Ucrania', 'Uganda', 'Uruguay', 'Uzbekistán', 'Vanuatu',\n",
       "       'Venezuela', 'Vietnam', 'Virgin Islands', 'Yemen', 'Yibuti',\n",
       "       'Zambia', 'Zimbabue', 'China'], dtype=object)"
      ]
     },
     "execution_count": 24,
     "metadata": {},
     "output_type": "execute_result"
    }
   ],
   "source": [
    "dfvino_union['Region/Country'].unique()"
   ]
  },
  {
   "cell_type": "code",
   "execution_count": 25,
   "metadata": {},
   "outputs": [
    {
     "data": {
      "text/plain": [
       "np.float64(338203.0)"
      ]
     },
     "execution_count": 25,
     "metadata": {},
     "output_type": "execute_result"
    }
   ],
   "source": [
    "# Comprobación de que la unificación de China se ha realizado correctamente mediante suma de la columna 'Quantity'\n",
    "dfvino_union[dfvino_union['Region/Country'] == 'China']['Quantity'].sum()"
   ]
  },
  {
   "cell_type": "markdown",
   "metadata": {},
   "source": [
    "##### La suma coincide con la anterior"
   ]
  },
  {
   "cell_type": "code",
   "execution_count": 26,
   "metadata": {},
   "outputs": [
    {
     "data": {
      "text/html": [
       "<div>\n",
       "<style scoped>\n",
       "    .dataframe tbody tr th:only-of-type {\n",
       "        vertical-align: middle;\n",
       "    }\n",
       "\n",
       "    .dataframe tbody tr th {\n",
       "        vertical-align: top;\n",
       "    }\n",
       "\n",
       "    .dataframe thead th {\n",
       "        text-align: right;\n",
       "    }\n",
       "</style>\n",
       "<table border=\"1\" class=\"dataframe\">\n",
       "  <thead>\n",
       "    <tr style=\"text-align: right;\">\n",
       "      <th></th>\n",
       "      <th>Continent</th>\n",
       "      <th>Region/Country</th>\n",
       "      <th>Product</th>\n",
       "      <th>Variable</th>\n",
       "      <th>Year</th>\n",
       "      <th>Unit</th>\n",
       "      <th>Quantity</th>\n",
       "    </tr>\n",
       "  </thead>\n",
       "  <tbody>\n",
       "    <tr>\n",
       "      <th>0</th>\n",
       "      <td>Asia</td>\n",
       "      <td>Afganistán</td>\n",
       "      <td>Vino</td>\n",
       "      <td>Consumo</td>\n",
       "      <td>2013</td>\n",
       "      <td>1000 hl</td>\n",
       "      <td>1.0</td>\n",
       "    </tr>\n",
       "    <tr>\n",
       "      <th>1</th>\n",
       "      <td>Asia</td>\n",
       "      <td>Afganistán</td>\n",
       "      <td>Vino</td>\n",
       "      <td>Importaciones</td>\n",
       "      <td>2013</td>\n",
       "      <td>1000 hl</td>\n",
       "      <td>0.0</td>\n",
       "    </tr>\n",
       "    <tr>\n",
       "      <th>2</th>\n",
       "      <td>Asia</td>\n",
       "      <td>Afganistán</td>\n",
       "      <td>Vino</td>\n",
       "      <td>Producción</td>\n",
       "      <td>2013</td>\n",
       "      <td>1000 hl</td>\n",
       "      <td>0.0</td>\n",
       "    </tr>\n",
       "    <tr>\n",
       "      <th>3</th>\n",
       "      <td>Asia</td>\n",
       "      <td>Afganistán</td>\n",
       "      <td>Vino</td>\n",
       "      <td>Consumo</td>\n",
       "      <td>2014</td>\n",
       "      <td>1000 hl</td>\n",
       "      <td>1.0</td>\n",
       "    </tr>\n",
       "    <tr>\n",
       "      <th>4</th>\n",
       "      <td>Asia</td>\n",
       "      <td>Afganistán</td>\n",
       "      <td>Vino</td>\n",
       "      <td>Importaciones</td>\n",
       "      <td>2014</td>\n",
       "      <td>1000 hl</td>\n",
       "      <td>1.0</td>\n",
       "    </tr>\n",
       "  </tbody>\n",
       "</table>\n",
       "</div>"
      ],
      "text/plain": [
       "  Continent Region/Country Product       Variable  Year     Unit  Quantity\n",
       "0      Asia     Afganistán    Vino        Consumo  2013  1000 hl       1.0\n",
       "1      Asia     Afganistán    Vino  Importaciones  2013  1000 hl       0.0\n",
       "2      Asia     Afganistán    Vino     Producción  2013  1000 hl       0.0\n",
       "3      Asia     Afganistán    Vino        Consumo  2014  1000 hl       1.0\n",
       "4      Asia     Afganistán    Vino  Importaciones  2014  1000 hl       1.0"
      ]
     },
     "execution_count": 26,
     "metadata": {},
     "output_type": "execute_result"
    }
   ],
   "source": [
    "dfvino_union.head()"
   ]
  },
  {
   "cell_type": "code",
   "execution_count": 27,
   "metadata": {},
   "outputs": [
    {
     "name": "stdout",
     "output_type": "stream",
     "text": [
      "     Region/Country  Quantity\n",
      "99           Italia  531422.0\n",
      "72          Francia  487993.0\n",
      "63           España  414354.0\n",
      "64   Estados Unidos  267191.0\n",
      "13        Australia  136015.0\n",
      "10        Argentina  135894.0\n",
      "41            Chile  127302.0\n",
      "187       Sudáfrica  115095.0\n",
      "42            China  102869.0\n",
      "2          Alemania   95777.0\n"
     ]
    }
   ],
   "source": [
    "#Produccion\n",
    "df_produccion = dfvino_union[dfvino_union['Variable'] == 'Producción']\n",
    "\n",
    "#Agrupacion de país y sumar cantidades\n",
    "produccion_pais = (df_produccion.groupby('Region/Country')['Quantity'].sum().reset_index().sort_values(by='Quantity', ascending=False))\n",
    "\n",
    "print(produccion_pais.head(10))"
   ]
  },
  {
   "cell_type": "code",
   "execution_count": 28,
   "metadata": {},
   "outputs": [
    {
     "name": "stdout",
     "output_type": "stream",
     "text": [
      "     Region/Country  Quantity\n",
      "49           España  240629.0\n",
      "73           Italia  229406.0\n",
      "56          Francia  154597.0\n",
      "31            Chile   93375.0\n",
      "8         Australia   79586.0\n",
      "135       Sudáfrica   51498.0\n",
      "1          Alemania   40679.0\n",
      "50   Estados Unidos   38401.0\n",
      "113        Portugal   33241.0\n",
      "5         Argentina   31079.0\n"
     ]
    }
   ],
   "source": [
    "#Exportaciones\n",
    "df_exportaciones = dfvino_union[dfvino_union['Variable'] == 'Exportaciones']\n",
    "\n",
    "#Agrupacion de país y sumar cantidades\n",
    "exportaciones_pais = (df_exportaciones.groupby('Region/Country')['Quantity'].sum().reset_index().sort_values(by='Quantity', ascending=False))\n",
    "\n",
    "print(exportaciones_pais.head(10))"
   ]
  },
  {
   "cell_type": "code",
   "execution_count": 29,
   "metadata": {},
   "outputs": [
    {
     "name": "stdout",
     "output_type": "stream",
     "text": [
      "     Region/Country  Quantity\n",
      "2          Alemania  162170.0\n",
      "152     Reino Unido  147404.0\n",
      "61   Estados Unidos  132814.0\n",
      "69          Francia   73224.0\n",
      "41            China   62652.0\n",
      "147    Países Bajos   47145.0\n",
      "37           Canadá   45057.0\n",
      "160           Rusia   44280.0\n",
      "33          Bélgica   34825.0\n",
      "98            Japón   29007.0\n"
     ]
    }
   ],
   "source": [
    "#Importaciones\n",
    "df_importaciones = dfvino_union[dfvino_union['Variable'] == 'Importaciones']\n",
    "\n",
    "#Agrupacion de país y sumar cantidades\n",
    "importaciones_pais = (df_importaciones.groupby('Region/Country')['Quantity'].sum().reset_index().sort_values(by='Quantity', ascending=False))\n",
    "\n",
    "print(importaciones_pais.head(10))"
   ]
  },
  {
   "cell_type": "code",
   "execution_count": 30,
   "metadata": {},
   "outputs": [
    {
     "name": "stdout",
     "output_type": "stream",
     "text": [
      "     Region/Country  Quantity\n",
      "56   Estados Unidos  358653.0\n",
      "64          Francia  286953.0\n",
      "90           Italia  244152.0\n",
      "2          Alemania  218284.0\n",
      "37            China  170227.0\n",
      "142     Reino Unido  143166.0\n",
      "55           España  110156.0\n",
      "9         Argentina   99668.0\n",
      "150           Rusia   98442.0\n",
      "11        Australia   60267.0\n"
     ]
    }
   ],
   "source": [
    "#Consumo\n",
    "df_consumo = dfvino_union[dfvino_union['Variable'] == 'Consumo']\n",
    "\n",
    "#Agrupacion de país y sumar cantidades\n",
    "consumo_pais = (df_consumo.groupby('Region/Country')['Quantity'].sum().reset_index().sort_values(by='Quantity', ascending=False))\n",
    "\n",
    "print(consumo_pais.head(10))"
   ]
  },
  {
   "cell_type": "code",
   "execution_count": 31,
   "metadata": {},
   "outputs": [
    {
     "name": "stdout",
     "output_type": "stream",
     "text": [
      "   Region/Country  Quantity\n",
      "4         Francia  848170.0\n",
      "5          Italia  799881.0\n",
      "3  Estados Unidos  758658.0\n",
      "2          España  532543.0\n",
      "0        Alemania  476231.0\n",
      "1           China  335748.0\n",
      "6     Reino Unido  291330.0\n"
     ]
    }
   ],
   "source": [
    "#Comprobacion de suma de importacion, consumo y produccion de Italia, Francia, China continental, Alemania, Estados Unidos y Reino Unido\n",
    "#Creo una variable con los paises de interes\n",
    "paises_interes = ['Italia', 'Francia', 'China', 'Alemania', 'Estados Unidos', 'Reino Unido', 'España']\n",
    "\n",
    "#Creo un dataframe con los paises de interes y los valores de Produccion, Importaciones y Consumo\n",
    "df_paises_interes = dfvino_union[(dfvino_union['Region/Country'].isin(paises_interes)) & (dfvino_union['Variable'].isin(['Producción', 'Importaciones', 'Consumo']))]\n",
    "\n",
    "#Agrupacion de país y sumar cantidades\n",
    "df_total_pais_variables = df_paises_interes.groupby('Region/Country')['Quantity'].sum().reset_index().sort_values(by='Quantity', ascending=False)\n",
    "print(df_total_pais_variables)"
   ]
  },
  {
   "cell_type": "markdown",
   "metadata": {},
   "source": [
    "### Creación del nuevo csv para su posterior tratamiento"
   ]
  },
  {
   "cell_type": "code",
   "execution_count": 14,
   "metadata": {},
   "outputs": [],
   "source": [
    "#dfvino_unido = dfvino.copy()\n",
    "#dfvino_unido.to_csv('dfvino_unido.csv', index=False)"
   ]
  }
 ],
 "metadata": {
  "kernelspec": {
   "display_name": "Python 3",
   "language": "python",
   "name": "python3"
  },
  "language_info": {
   "codemirror_mode": {
    "name": "ipython",
    "version": 3
   },
   "file_extension": ".py",
   "mimetype": "text/x-python",
   "name": "python",
   "nbconvert_exporter": "python",
   "pygments_lexer": "ipython3",
   "version": "3.11.9"
  }
 },
 "nbformat": 4,
 "nbformat_minor": 2
}
